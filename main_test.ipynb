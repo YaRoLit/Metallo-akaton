{
 "cells": [
  {
   "cell_type": "markdown",
   "metadata": {},
   "source": [
    "### Импорты"
   ]
  },
  {
   "cell_type": "code",
   "execution_count": 1,
   "metadata": {},
   "outputs": [],
   "source": [
    "from src.chain_of_thoughts import Chain_of_thoughts\n",
    "from src.llama_model_api import Llama_api\n",
    "from src.vbd_api import Chromadb_api"
   ]
  },
  {
   "cell_type": "markdown",
   "metadata": {},
   "source": [
    "### Создание классов работы с ВБД и LLM, а также пайплайна обработки запросов на их основе"
   ]
  },
  {
   "cell_type": "code",
   "execution_count": 2,
   "metadata": {},
   "outputs": [],
   "source": [
    "db_api = Chromadb_api(\n",
    "    bd_path=\"./chromadb/chromadb\",\n",
    "    collection_name=\"metalloprokat\"\n",
    ")\n",
    "model_api = Llama_api(\n",
    "    model_path=\"models/qwen2.5-14b-instruct-q3_k_m-00001-of-00002.gguf\",\n",
    "    model_params={\n",
    "        \"seed\": 42,\n",
    "        \"n_ctx\": 8000,\n",
    "        \"n_gpu_layers\": 12,\n",
    "        \"verbose\": False\n",
    "    }\n",
    ")"
   ]
  },
  {
   "cell_type": "code",
   "execution_count": 3,
   "metadata": {},
   "outputs": [],
   "source": [
    "answer_generator = Chain_of_thoughts(\n",
    "    query_to_db=db_api.query_to_db,\n",
    "    llm_request=model_api.llm_request\n",
    ")"
   ]
  },
  {
   "cell_type": "markdown",
   "metadata": {},
   "source": [
    "### Образец запроса"
   ]
  },
  {
   "cell_type": "code",
   "execution_count": 4,
   "metadata": {},
   "outputs": [
    {
     "name": "stderr",
     "output_type": "stream",
     "text": [
      "/home/yaro/Рабочий стол/T-lite test/ttest_cuda/lib/python3.11/site-packages/slovnet/model/emb.py:46: UserWarning: The given NumPy array is not writable, and PyTorch does not support non-writable tensors. This means writing to this tensor will result in undefined behavior. You may want to copy the array to protect its data or make it writable before converting it to a tensor. This type of warning will be suppressed for the rest of this program. (Triggered internally at ../torch/csrc/utils/tensor_numpy.cpp:206.)\n",
      "  torch.from_numpy(navec.pq.indexes),\n"
     ]
    },
    {
     "name": "stdout",
     "output_type": "stream",
     "text": [
      "Временное сопротивление σ<sub>в</sub>: 450 Н/мм<sup>2</sup>\n"
     ]
    }
   ],
   "source": [
    "answer_generator.start(\"Какие границы для испытания на временное сопротивление для широкополосного проката (базовое исполнение), марка стали 09Г2С, толщина проката 25, класс прочности 325, категория 12 для ГОСТ 19281-2014?\")"
   ]
  }
 ],
 "metadata": {
  "kernelspec": {
   "display_name": "ttest_cuda",
   "language": "python",
   "name": "python3"
  },
  "language_info": {
   "codemirror_mode": {
    "name": "ipython",
    "version": 3
   },
   "file_extension": ".py",
   "mimetype": "text/x-python",
   "name": "python",
   "nbconvert_exporter": "python",
   "pygments_lexer": "ipython3",
   "version": "3.11.4"
  }
 },
 "nbformat": 4,
 "nbformat_minor": 2
}
