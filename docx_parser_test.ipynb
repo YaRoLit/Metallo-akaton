{
 "cells": [
  {
   "cell_type": "code",
   "execution_count": 1,
   "metadata": {},
   "outputs": [],
   "source": [
    "from src.docx_parse import GOST_parser\n",
    "from src.vbd_api import Chromadb_api\n",
    "from src.llama_model_api import Llama_api"
   ]
  },
  {
   "cell_type": "code",
   "execution_count": 2,
   "metadata": {},
   "outputs": [],
   "source": [
    "db_api = Chromadb_api(collection_name=\"12345\")\n",
    "model_api = Llama_api()"
   ]
  },
  {
   "cell_type": "code",
   "execution_count": 4,
   "metadata": {},
   "outputs": [
    {
     "name": "stderr",
     "output_type": "stream",
     "text": [
      "/home/yaro/Рабочий стол/T-lite test/ttest_cuda/lib/python3.11/site-packages/slovnet/model/emb.py:46: UserWarning: The given NumPy array is not writable, and PyTorch does not support non-writable tensors. This means writing to this tensor will result in undefined behavior. You may want to copy the array to protect its data or make it writable before converting it to a tensor. This type of warning will be suppressed for the rest of this program. (Triggered internally at ../torch/csrc/utils/tensor_numpy.cpp:206.)\n",
      "  torch.from_numpy(navec.pq.indexes),\n",
      "Add of existing embedding ID: table_1_meta\n",
      "Number of requested results 40 is greater than number of elements in index 2, updating n_results = 2\n"
     ]
    },
    {
     "data": {
      "text/plain": [
       "{'ids': [['table_1_meta']],\n",
       " 'embeddings': None,\n",
       " 'documents': [['{\\n\"Название таблицы\": \"Таблица 1 - химический состав стали по анализу ковшевой пробы\",\\n\"Класс прочности\": [\"265, 295\", \"315\", \"325\", \"345\", \"390\", \"440\"],\\n\"Массовая доля элементов, %, не более\": [\"С\", \"Si\", \"Мn\", \"Р\", \"S\", \"Cr\", \"Ni\", \"Cu\", \"V\", \"N\"]\\n}']],\n",
       " 'uris': None,\n",
       " 'data': None,\n",
       " 'metadatas': [[{'gost_num': '19281',\n",
       "    'gost_year': '2014',\n",
       "    'table_name': 'таблица 1 - химический состав стали по анализу ковшевой пробы',\n",
       "    'table_num': '1',\n",
       "    'type': 'table_meta'}]],\n",
       " 'distances': [[30.72626854822027]],\n",
       " 'included': [<IncludeEnum.distances: 'distances'>,\n",
       "  <IncludeEnum.documents: 'documents'>,\n",
       "  <IncludeEnum.metadatas: 'metadatas'>]}"
      ]
     },
     "execution_count": 4,
     "metadata": {},
     "output_type": "execute_result"
    }
   ],
   "source": [
    "db_api.query_to_db(\"таблица\", [{'type': 'table_meta'}])"
   ]
  },
  {
   "cell_type": "code",
   "execution_count": null,
   "metadata": {},
   "outputs": [
    {
     "name": "stderr",
     "output_type": "stream",
     "text": [
      "Insert of existing embedding ID: table_1_meta\n",
      "Add of existing embedding ID: table_1_meta\n"
     ]
    },
    {
     "name": "stdout",
     "output_type": "stream",
     "text": [
      "{\n",
      "\"Название таблицы\": \"Таблица 1\",\n",
      "\"Нормируемая характеристика\": [\"-\",\"-\",\"-\",\"-\",\"-\",\"-\",\"-\",\"-\",\"-\",\"Химический состав\",\"Предел текучести\",\"Ударная вязкость\"],\n",
      "\"Химические свойства\": [\"-\"],\n",
      "\"Механические свойства\": [\"Категория 1\", \"Категория 2\", \"Категория 3\", \"Категория 4\", \"Категория 5\", \"Категория 6\"],\n",
      "\"Категория\": [\"1\", \"2\", \"3\", \"4\", \"5\", \"6\"],\n",
      "\"Химический состав\": [\"-\", \"-\", \"-\", \"-\", \"-\", \"-\", \"-\", \"-\",\"Ст0, Ст2кп, Ст2пс, Ст2сп, Ст3кп, Ст3пс, Ст3сп, Ст5пс, Ст5сп, Ст5Гпс\"],\n",
      "\"Механические\": [\"Механические свойства\"],\n",
      "\"Ударная вязкость при температуре, °С\": [\"+20\", \"-20\", \"-40\", \"0\", \"+20\"],\n",
      "\"Ударная вязкость после механического старения\": [\"-\", \"+\"],\n",
      "\"После механического старения\": [\"-\", \"+\"],\n",
      "\"После старения\": [\"-\", \"+\"],\n",
      "\"Марка стали\": [\"Ст0, Ст2кп, Ст2пс, Ст2сп, Ст3кп, Ст3пс, Ст3сп, Ст5пс, Ст5сп, Ст5Гпс\"],\n",
      "\"Категория 1\": [\"-\", \"-\", \"-\", \"-\", \"-\", \"-\", \"-\", \"-\", \"Ст0, Ст2кп, Ст2пс, Ст2сп, Ст3кп, Ст3пс, Ст3сп, Ст5пс, Ст5сп, Ст5Гпс\"],\n",
      "\"Категория 2\": [\"+\", \"+\", \"-\", \"-\", \"-\", \"-\", \"-\", \"-\", \"Ст2кп, Ст2пс, Ст2сп, Ст3кп, Ст3пс, Ст3сп, Ст5пс, Ст5сп, Ст5Гпс\"],\n",
      "\"Категория 3\": [\"+\", \"+\", \"+\", \"-\", \"-\", \"-\", \"-\", \"-\", \"Ст3кп, Ст3пс, Ст3сп, Ст3Гпс, Ст3Гсп, Ст4пс, Ст4сп\"],\n",
      "\"Категория 4\": [\"+\", \"+\", \"-\", \"+\", \"-\", \"-\", \"-\", \"-\", \"Ст3пс, Ст3сп, Ст3Гпс, Ст3Гсп\"],\n",
      "\"Категория 5\": [\"+\", \"+\", \"-\", \"+\", \"-\", \"+\", \"-\", \"+\", \"Ст3пс, Ст3сп, Ст3Гпс, Ст3Гсп\"],\n",
      "\"Категория 6\": [\"+\", \"+\", \"-\", \"-\", \"+\", \"+\", \"+\", \"-\", \"Ст3пс, Ст3сп, Ст3Гпс, Ст3Гсп\"]\n",
      "}\n"
     ]
    }
   ],
   "source": [
    "parser = GOST_parser(\n",
    "    #'/home/yaro/Рабочий стол/Хакатон металлургов/ГОСТ 19281-2014.docx',\n",
    "    '/home/yaro/Рабочий стол/Хакатон металлургов/gost-14637-89.docx',\n",
    "    db_adder=db_api.add_doc,\n",
    "    llm_request=model_api.llm_request\n",
    ")"
   ]
  },
  {
   "cell_type": "code",
   "execution_count": null,
   "metadata": {},
   "outputs": [
    {
     "name": "stdout",
     "output_type": "stream",
     "text": [
      "----------\n",
      "ГОСТ 19281-2014\n",
      "МЕЖГОСУДАРСТВЕННЫЙ СТАНДАРТ\n",
      "ПРОКАТ ПОВЫШЕННОЙ ПРОЧНОСТИ\n",
      "Общие технические условия\n",
      "High strength rolled steel. General specification\n",
      "МКС 77.140.50\n",
      "----------\n",
      "В ответе представлены разделенные логические блоки текста.\n",
      "----------\n",
      "   77.140.60        Дата введения 2015-01-01 \n",
      "Предисловие \n",
      "Цели, основные принципы и общие правила проведения работ по межгосударственной стандартизации установлены ГОСТ 1.0 \"Межгосударственная система стандardsаризации. Основные положения\" и ГОСТ 1.2 \"Межгосударственная система стандardsаризации. Стандardsы межгосударственные, правила и рекомендации по межгосударственной стандardsаризации. Правила разработки, принятия, обновления и отмены\"\n",
      "  Сведения о стандарте\n",
      "1 РАЗРАБОТАН Федеральным государственным унитарным предприятием \"Центральный научно-исследовательский институт черной металлургии им.И.П.Бардина\" (ФГУП \"ЦНИИчермет им.И.П.Бардина\")\n",
      "2 ВНЕСЕН Федеральным агентством по техническому регулированию и метрологии\n",
      "3 ПРИНЯТ Межгосударственным советом по стандартизации, метрологии и сертификации (протокол от 28 марта 2014 г. N 65-П)\n",
      "За принятие проголосовали:\n",
      "----------\n",
      "Если исходный текст состоит из множества фрагментов, разделите его на логические блоки, каждый из которых следует за другим, и отделите каждый фрагмент при помощи указанного выше разделителя.\n"
     ]
    }
   ],
   "source": [
    "parser = GOST_parser(\n",
    "    '/home/yaro/Рабочий стол/Хакатон металлургов/ГОСТ 19281-2014.docx',\n",
    "    #'/home/yaro/Рабочий стол/Хакатон металлургов/gost-14637-89.docx',\n",
    "    db_adder=db_api.add_doc,\n",
    "    llm_request=model_api.llm_request\n",
    ")"
   ]
  }
 ],
 "metadata": {
  "kernelspec": {
   "display_name": "ttest_cuda",
   "language": "python",
   "name": "python3"
  },
  "language_info": {
   "codemirror_mode": {
    "name": "ipython",
    "version": 3
   },
   "file_extension": ".py",
   "mimetype": "text/x-python",
   "name": "python",
   "nbconvert_exporter": "python",
   "pygments_lexer": "ipython3",
   "version": "3.11.4"
  }
 },
 "nbformat": 4,
 "nbformat_minor": 2
}
